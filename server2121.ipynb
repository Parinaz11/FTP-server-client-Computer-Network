{
 "cells": [
  {
   "cell_type": "code",
   "execution_count": 8,
   "id": "6075d9e8",
   "metadata": {},
   "outputs": [],
   "source": [
    "import socket\n",
    "import os"
   ]
  },
  {
   "cell_type": "code",
   "execution_count": 9,
   "id": "af8b33a2",
   "metadata": {},
   "outputs": [
    {
     "name": "stdout",
     "output_type": "stream",
     "text": [
      "Waiting for a connection...\n",
      "Connection from ('127.0.0.1', 5165)\n",
      "\n",
      "Received LIST C:\\Users\\parin\\Desktop\\ICPC\n"
     ]
    },
    {
     "ename": "FileNotFoundError",
     "evalue": "[WinError 3] The system cannot find the path specified: 'C:\\\\Users\\\\parin\\\\Desktop\\\\ICP'",
     "output_type": "error",
     "traceback": [
      "\u001b[1;31m---------------------------------------------------------------------------\u001b[0m",
      "\u001b[1;31mFileNotFoundError\u001b[0m                         Traceback (most recent call last)",
      "Input \u001b[1;32mIn [9]\u001b[0m, in \u001b[0;36m<cell line: 7>\u001b[1;34m()\u001b[0m\n\u001b[0;32m     28\u001b[0m file_list \u001b[38;5;241m=\u001b[39m \u001b[38;5;28mlist\u001b[39m()\n\u001b[0;32m     29\u001b[0m directory_path \u001b[38;5;241m=\u001b[39m data\u001b[38;5;241m.\u001b[39mdecode()[\u001b[38;5;241m5\u001b[39m:\u001b[38;5;28mlen\u001b[39m(data\u001b[38;5;241m.\u001b[39mdecode())\u001b[38;5;241m-\u001b[39m\u001b[38;5;241m1\u001b[39m]\n\u001b[1;32m---> 30\u001b[0m file_list \u001b[38;5;241m=\u001b[39m \u001b[38;5;124m'\u001b[39m\u001b[38;5;130;01m\\n\u001b[39;00m\u001b[38;5;124m'\u001b[39m\u001b[38;5;241m.\u001b[39mjoin(\u001b[38;5;124mf\u001b[39m\u001b[38;5;124m\"\u001b[39m\u001b[38;5;132;01m{\u001b[39;00mfilename\u001b[38;5;132;01m}\u001b[39;00m\u001b[38;5;124m - \u001b[39m\u001b[38;5;132;01m{\u001b[39;00mos\u001b[38;5;241m.\u001b[39mpath\u001b[38;5;241m.\u001b[39mgetsize(filename)\u001b[38;5;132;01m}\u001b[39;00m\u001b[38;5;124m bytes\u001b[39m\u001b[38;5;124m\"\u001b[39m \u001b[38;5;28;01mfor\u001b[39;00m filename \u001b[38;5;129;01min\u001b[39;00m \u001b[43mos\u001b[49m\u001b[38;5;241;43m.\u001b[39;49m\u001b[43mlistdir\u001b[49m\u001b[43m(\u001b[49m\u001b[43mdirectory_path\u001b[49m\u001b[43m)\u001b[49m)\n\u001b[0;32m     31\u001b[0m \u001b[38;5;28mprint\u001b[39m(\u001b[38;5;124m'\u001b[39m\u001b[38;5;124mSending file list:\u001b[39m\u001b[38;5;124m'\u001b[39m, file_list)\n\u001b[0;32m     32\u001b[0m connection\u001b[38;5;241m.\u001b[39msendall(file_list\u001b[38;5;241m.\u001b[39mencode())\n",
      "\u001b[1;31mFileNotFoundError\u001b[0m: [WinError 3] The system cannot find the path specified: 'C:\\\\Users\\\\parin\\\\Desktop\\\\ICP'"
     ]
    }
   ],
   "source": [
    "sock = socket.socket(socket.AF_INET, socket.SOCK_STREAM)\n",
    "\n",
    "serverAddress = ('localhost', 2121)\n",
    "sock.bind(serverAddress)\n",
    "sock.listen(1)\n",
    "\n",
    "while True:\n",
    "    print('Waiting for a connection...')\n",
    "    connection, clientAddress = sock.accept()\n",
    "    print('Connection from', clientAddress)\n",
    "\n",
    "    # For receiving data\n",
    "    while True:\n",
    "        data = connection.recv(1024)\n",
    "        print('\\nReceived', data.decode())\n",
    "\n",
    "        if data:\n",
    "            if data.decode()[:6] == 'DELETE':\n",
    "                path = data[8:len(data)-1].strip()\n",
    "                # Find the path file and delete the file\n",
    "                try:\n",
    "                    os.remove(path)\n",
    "                    print('File deleted:', path)\n",
    "                except OSError as e:\n",
    "                    print(f\"Error deleting file {path}: {e}\")\n",
    "                    \n",
    "            elif data.decode()[:4] == 'LIST':\n",
    "                file_list = list()\n",
    "                directory_path = data.decode()[5:].strip()\n",
    "                try:\n",
    "                    file_list = '\\n'.join(f\"{filename} - {os.path.getsize(filename)} bytes\" for filename in os.listdir(directory_path))\n",
    "                    print('Sending file list:', file_list)\n",
    "                    connection.sendall(file_list.encode())\n",
    "                except FileNotFoundError:\n",
    "                    print(f\"Directory not found: {directory_path}\")\n",
    "                    connection.sendall(\"Directory not found\".encode())\n",
    "\n",
    "            elif data.decode() == 'UPLOAD':\n",
    "                connection.sendall('ALLOWED'.encode())\n",
    "                path = connection.recv(1024)\n",
    "                print('The file path is', path)\n",
    "                \n",
    "            elif data == '0'.encode(): # When the client enters 0, the server shuts down\n",
    "                break\n",
    "        else:\n",
    "            print('No more data from', clientAddress)\n",
    "            break\n",
    "    connection.close()\n",
    "    if data == '0'.encode(): break\n",
    "        \n",
    "print('Shutting down the server.')        \n",
    "sock.close()"
   ]
  },
  {
   "cell_type": "code",
   "execution_count": null,
   "id": "5539c4b6",
   "metadata": {},
   "outputs": [],
   "source": []
  },
  {
   "cell_type": "code",
   "execution_count": null,
   "id": "0ec06904",
   "metadata": {},
   "outputs": [],
   "source": []
  },
  {
   "cell_type": "code",
   "execution_count": null,
   "id": "9500f518",
   "metadata": {},
   "outputs": [],
   "source": []
  },
  {
   "cell_type": "code",
   "execution_count": null,
   "id": "874d11bb",
   "metadata": {},
   "outputs": [],
   "source": []
  },
  {
   "cell_type": "code",
   "execution_count": null,
   "id": "ed262776",
   "metadata": {},
   "outputs": [],
   "source": []
  },
  {
   "cell_type": "markdown",
   "id": "a5ca3654",
   "metadata": {},
   "source": [
    "# For Port 2121 (Older Version)"
   ]
  },
  {
   "cell_type": "code",
   "execution_count": 7,
   "id": "80965e2e",
   "metadata": {},
   "outputs": [
    {
     "name": "stdout",
     "output_type": "stream",
     "text": [
      "Waiting for a connection...\n",
      "Connection from ('127.0.0.1', 4888)\n"
     ]
    },
    {
     "ename": "ConnectionResetError",
     "evalue": "[WinError 10054] An existing connection was forcibly closed by the remote host",
     "output_type": "error",
     "traceback": [
      "\u001b[1;31m---------------------------------------------------------------------------\u001b[0m",
      "\u001b[1;31mConnectionResetError\u001b[0m                      Traceback (most recent call last)",
      "Input \u001b[1;32mIn [7]\u001b[0m, in \u001b[0;36m<cell line: 15>\u001b[1;34m()\u001b[0m\n\u001b[0;32m     22\u001b[0m \u001b[38;5;66;03m# For receiving data\u001b[39;00m\n\u001b[0;32m     23\u001b[0m \u001b[38;5;28;01mwhile\u001b[39;00m \u001b[38;5;28;01mTrue\u001b[39;00m:\n\u001b[1;32m---> 24\u001b[0m     data \u001b[38;5;241m=\u001b[39m \u001b[43mconnection\u001b[49m\u001b[38;5;241;43m.\u001b[39;49m\u001b[43mrecv\u001b[49m\u001b[43m(\u001b[49m\u001b[38;5;241;43m1024\u001b[39;49m\u001b[43m)\u001b[49m\n\u001b[0;32m     25\u001b[0m     \u001b[38;5;28mprint\u001b[39m(\u001b[38;5;124m'\u001b[39m\u001b[38;5;130;01m\\n\u001b[39;00m\u001b[38;5;124mReceived\u001b[39m\u001b[38;5;124m'\u001b[39m, data\u001b[38;5;241m.\u001b[39mdecode())\n\u001b[0;32m     27\u001b[0m     \u001b[38;5;28;01mif\u001b[39;00m data:\n",
      "\u001b[1;31mConnectionResetError\u001b[0m: [WinError 10054] An existing connection was forcibly closed by the remote host"
     ]
    }
   ],
   "source": [
    "# Work with the code below this block\n",
    "\n",
    "import socket\n",
    "\n",
    "\n",
    "sock = socket.socket(socket.AF_INET, socket.SOCK_STREAM)\n",
    "\n",
    "serverAddress = ('localhost', 2121)\n",
    "sock.bind(serverAddress)\n",
    "sock.listen(1)\n",
    "\n",
    "\n",
    "def messageSentForHelp():\n",
    "    messageSent = \"Enter one of the following commands:\\nHELP               : showing the list of commands\\nCONNECT            : Connect to FTP server\\nUPLOAD file_path   : Upload file from the specified path\\nLIST               : List files\\nDOWNLOAD file_path : Download file from the specified path\\nDELETE file_path   : Delete file from the specified path\\nPWD                : Showing our current locaiton in the server\"\n",
    "    connection.sendall(messageSent.encode())\n",
    "\n",
    "while True:\n",
    "    print('Waiting for a connection...')\n",
    "    connection, clientAddress = sock.accept()\n",
    "    connection.sendall(\"--------WELCOME TO SERVER--------\\nFor displaying commands available, enter 'HELP'\".encode())\n",
    "    \n",
    "    print('Connection from', clientAddress)\n",
    "\n",
    "    # For receiving data\n",
    "    while True:\n",
    "        data = connection.recv(1024)\n",
    "        print('\\nReceived', data.decode())\n",
    "\n",
    "        if data:\n",
    "            print('Sending data back to the client.')\n",
    "            connection.sendall(data)\n",
    "            if data == 'HELP'.encode():\n",
    "                messageSentForHelp()\n",
    "                print('message help was sent')\n",
    "#             if data == 'CONNECT'.encode():\n",
    "                \n",
    "            if data == '0'.encode(): # When the client enters 0, the server shuts down\n",
    "                break\n",
    "        else:\n",
    "            print('No more data from', clientAddress)\n",
    "            break\n",
    "    connection.close()\n",
    "    if data == '0'.encode(): break\n",
    "        \n",
    "print('Shutting down the server.')        \n",
    "sock.close()"
   ]
  },
  {
   "cell_type": "code",
   "execution_count": null,
   "id": "f7f2ae7c",
   "metadata": {},
   "outputs": [],
   "source": []
  },
  {
   "cell_type": "code",
   "execution_count": null,
   "id": "1728f1b3",
   "metadata": {},
   "outputs": [],
   "source": []
  }
 ],
 "metadata": {
  "kernelspec": {
   "display_name": "Python 3 (ipykernel)",
   "language": "python",
   "name": "python3"
  },
  "language_info": {
   "codemirror_mode": {
    "name": "ipython",
    "version": 3
   },
   "file_extension": ".py",
   "mimetype": "text/x-python",
   "name": "python",
   "nbconvert_exporter": "python",
   "pygments_lexer": "ipython3",
   "version": "3.10.5"
  }
 },
 "nbformat": 4,
 "nbformat_minor": 5
}
