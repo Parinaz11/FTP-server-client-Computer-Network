{
 "cells": [
  {
   "cell_type": "code",
   "execution_count": null,
   "id": "851f0760",
   "metadata": {},
   "outputs": [
    {
     "name": "stdout",
     "output_type": "stream",
     "text": [
      "Connecting to localhost port 2121\n"
     ]
    }
   ],
   "source": [
    "# Changing someting 2 to see if it works fine\n",
    "\n",
    "# work with code after this\n",
    "\n",
    "import socket\n",
    "import sys\n",
    "\n",
    "sock = socket.socket(socket.AF_INET, socket.SOCK_STREAM)\n",
    "\n",
    "serverAddress = ('localhost', 2121)\n",
    "print('Connecting to', serverAddress[0], 'port', serverAddress[1])\n",
    "sock.connect(serverAddress)\n",
    "data = sock.recv(1024)\n",
    "print(data.decode())\n",
    "\n",
    "while True:\n",
    "\n",
    "    # Sending data\n",
    "    message = input('\\nEnter your message:').encode()\n",
    "    sock.sendall(message)\n",
    "    data = sock.recv(1024)\n",
    "    print('Received', data.decode())\n",
    "    if message == 'HELP'.encode():\n",
    "        data = sock.recv(1024)\n",
    "        print(data.decode())\n",
    "        \n",
    "    if message == '0'.encode(): break\n",
    "\n",
    "print('Closing socket')\n",
    "sock.close()"
   ]
  },
  {
   "cell_type": "code",
   "execution_count": null,
   "id": "fadacc78",
   "metadata": {},
   "outputs": [],
   "source": []
  },
  {
   "cell_type": "code",
   "execution_count": null,
   "id": "60dc10cd",
   "metadata": {},
   "outputs": [],
   "source": []
  },
  {
   "cell_type": "code",
   "execution_count": null,
   "id": "5cf568e1",
   "metadata": {},
   "outputs": [],
   "source": []
  },
  {
   "cell_type": "code",
   "execution_count": null,
   "id": "33e10a1e",
   "metadata": {},
   "outputs": [],
   "source": []
  },
  {
   "cell_type": "code",
   "execution_count": 17,
   "id": "9b2245c8",
   "metadata": {},
   "outputs": [],
   "source": [
    "import socket\n",
    "import sys"
   ]
  },
  {
   "cell_type": "code",
   "execution_count": 18,
   "id": "b3051860",
   "metadata": {},
   "outputs": [],
   "source": [
    "def connectFunc():\n",
    "    print('Connecting to', serverAddress[0], 'port', serverAddress[1])\n",
    "    sock.connect(serverAddress)\n",
    "    \n",
    "def helpFunc():\n",
    "    print(\"Enter one of the following commands:\\nHELP                 : Showing the list of commands\\nCONNECT              : Connect to FTP server\\nUPLOAD <file_path>   : Upload file from the specified path\\nLIST                 : List files\\nDOWNLOAD <file_path> : Download file from the specified path\\nDELETE <file_path>   : Delete file from the specified path\\nPWD                  : Showing our current locaiton in the server\\nQUIT                 : Ending the connection to server\")\n",
    "    \n",
    "def uploadFunc(path):\n",
    "    if not path: print('Please enter message in the appropriate format.')\n",
    "    print('the path was', path)\n",
    "    sock.sendall(\"UPLOAD\".encode())\n",
    "    if sock.recv(1024) == \"ALLOWED\".encode():\n",
    "        # Sending the file name to the server\n",
    "        print('Sending the file path to the server...')\n",
    "        sock.sendall(path.encode())\n",
    "    else print('Sorry, server busy at the moment. Please try again later.')\n",
    "\n",
    "def listFilesFunc():\n",
    "    print('LISTING FILES:')\n",
    "    \n",
    "def downloadFilesFunc():\n",
    "    path = input('Enter the path for the file you wish to download from server: ')\n",
    "    print('the path was', path)\n",
    "    \n",
    "def deleteFilesFunc():\n",
    "    name = input('Enter the name of the file you wish to delete: ')\n",
    "    print('the name was', name)\n",
    "    \n",
    "def PWDFunc():\n",
    "    print('The current location in server.')"
   ]
  },
  {
   "cell_type": "code",
   "execution_count": 19,
   "id": "fed7dbff",
   "metadata": {},
   "outputs": [
    {
     "name": "stdout",
     "output_type": "stream",
     "text": [
      "------WELCOME TO FTP CLIENT------\n",
      "Enter one of the following commands:\n",
      "HELP                 : Showing the list of commands\n",
      "CONNECT              : Connect to FTP server\n",
      "UPLOAD <file_path>   : Upload file from the specified path\n",
      "LIST                 : List files\n",
      "DOWNLOAD <file_path> : Download file from the specified path\n",
      "DELETE <file_path>   : Delete file from the specified path\n",
      "PWD                  : Showing our current locaiton in the server\n",
      "QUIT                 : Ending the connection to server\n",
      "\n",
      "Enter your message: connect\n",
      "Connecting to localhost port 2121\n",
      "\n",
      "Enter your message: upload\n",
      "Please enter message in the appropriate format.\n",
      "the path was \n",
      "\n",
      "Enter your message: upload <something.txt>\n",
      "the path was something.txt\n",
      "\n",
      "Enter your message: upload something\n",
      "the path was omethin\n",
      "\n",
      "Enter your message: quit\n",
      "***EXITED***\n"
     ]
    }
   ],
   "source": [
    "sock = socket.socket(socket.AF_INET, socket.SOCK_STREAM)\n",
    "serverAddress = ('localhost', 2121)\n",
    "\n",
    "print('------WELCOME TO FTP CLIENT------')\n",
    "print(\"Enter one of the following commands:\\nHELP                 : Showing the list of commands\\nCONNECT              : Connect to FTP server\\nUPLOAD <file_path>   : Upload file from the specified path\\nLIST                 : List files\\nDOWNLOAD <file_path> : Download file from the specified path\\nDELETE <file_path>   : Delete file from the specified path\\nPWD                  : Showing our current locaiton in the server\\nQUIT                 : Ending the connection to server\")\n",
    "connected = False\n",
    "while True:\n",
    "    prompt = input(\"\\nEnter your message: \")\n",
    "#     sock.sendall(prompt.encode())\n",
    "    if prompt[:4].upper() == \"HELP\": helpFunc()\n",
    "    elif prompt[:7].upper() == \"CONNECT\":\n",
    "        connectFunc()\n",
    "        connected = True\n",
    "    elif prompt[:6].upper() == \"UPLOAD\":\n",
    "        if not connected:\n",
    "            print(\"You are not connected to FTP server! Enter 'CONNECT' message.\")\n",
    "            continue\n",
    "        uploadFunc(prompt[8:len(prompt)-1], sock)\n",
    "    elif prompt[:4].upper() == \"LIST\":\n",
    "        if not connected:\n",
    "            print(\"You are not connected to FTP server! Enter 'CONNECT' message.\")\n",
    "            continue\n",
    "        listFilesFunc()\n",
    "    elif prompt[:8].upper() == \"DOWNLOAD\":\n",
    "        if not connected:\n",
    "            print(\"You are not connected to FTP server! Enter 'CONNECT' message.\")\n",
    "            continue\n",
    "        downloadFilesFunc()\n",
    "    elif prompt[:5].upper() == \"DELET\":\n",
    "        if not connected:\n",
    "            print(\"You are not connected to FTP server! Enter 'CONNECT' message.\")\n",
    "            continue\n",
    "        deleteFilesFunc()\n",
    "    elif prompt[:3].upper() == \"PWD\":\n",
    "        if not connected:\n",
    "            print(\"You are not connected to FTP server! Enter 'CONNECT' message.\")\n",
    "            continue\n",
    "        PWDFunc()\n",
    "    elif prompt[:4].upper() == \"QUIT\": break\n",
    "    else: print (\"Invalid message. Please try again\")\n",
    "sock.close()\n",
    "print(\"***EXITED***\")"
   ]
  },
  {
   "cell_type": "code",
   "execution_count": null,
   "id": "210dd4ef",
   "metadata": {},
   "outputs": [],
   "source": []
  },
  {
   "cell_type": "code",
   "execution_count": null,
   "id": "feb0cc35",
   "metadata": {},
   "outputs": [],
   "source": []
  },
  {
   "cell_type": "code",
   "execution_count": null,
   "id": "86a0e259",
   "metadata": {},
   "outputs": [],
   "source": []
  },
  {
   "cell_type": "code",
   "execution_count": null,
   "id": "3ca04ab7",
   "metadata": {},
   "outputs": [],
   "source": []
  }
 ],
 "metadata": {
  "kernelspec": {
   "display_name": "Python 3 (ipykernel)",
   "language": "python",
   "name": "python3"
  },
  "language_info": {
   "codemirror_mode": {
    "name": "ipython",
    "version": 3
   },
   "file_extension": ".py",
   "mimetype": "text/x-python",
   "name": "python",
   "nbconvert_exporter": "python",
   "pygments_lexer": "ipython3",
   "version": "3.10.5"
  }
 },
 "nbformat": 4,
 "nbformat_minor": 5
}
