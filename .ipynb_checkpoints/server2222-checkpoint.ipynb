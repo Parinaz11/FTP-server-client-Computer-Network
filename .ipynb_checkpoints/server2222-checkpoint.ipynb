{
 "cells": [
  {
   "cell_type": "code",
   "execution_count": 6,
   "id": "0c4f8c55",
   "metadata": {},
   "outputs": [
    {
     "name": "stdout",
     "output_type": "stream",
     "text": [
      "Waiting for a connection...\n",
      "Connection from ('127.0.0.1', 46180)\n"
     ]
    },
    {
     "ename": "ConnectionAbortedError",
     "evalue": "[WinError 10053] An established connection was aborted by the software in your host machine",
     "output_type": "error",
     "traceback": [
      "\u001b[1;31m---------------------------------------------------------------------------\u001b[0m",
      "\u001b[1;31mConnectionAbortedError\u001b[0m                    Traceback (most recent call last)",
      "Input \u001b[1;32mIn [6]\u001b[0m, in \u001b[0;36m<cell line: 10>\u001b[1;34m()\u001b[0m\n\u001b[0;32m     17\u001b[0m     \u001b[38;5;66;03m# For receiving data\u001b[39;00m\n\u001b[0;32m     18\u001b[0m     \u001b[38;5;28;01mwhile\u001b[39;00m \u001b[38;5;28;01mTrue\u001b[39;00m:\n\u001b[1;32m---> 19\u001b[0m         data \u001b[38;5;241m=\u001b[39m \u001b[43mconnection\u001b[49m\u001b[38;5;241;43m.\u001b[39;49m\u001b[43mrecv\u001b[49m\u001b[43m(\u001b[49m\u001b[38;5;241;43m1024\u001b[39;49m\u001b[43m)\u001b[49m\n\u001b[0;32m     20\u001b[0m         \u001b[38;5;28mprint\u001b[39m(\u001b[38;5;124m'\u001b[39m\u001b[38;5;130;01m\\n\u001b[39;00m\u001b[38;5;124mReceived\u001b[39m\u001b[38;5;124m'\u001b[39m, data\u001b[38;5;241m.\u001b[39mdecode())\n\u001b[0;32m     22\u001b[0m         \u001b[38;5;28;01mif\u001b[39;00m data:\n\u001b[0;32m     23\u001b[0m \u001b[38;5;66;03m#             print('Sending data back to the client.')\u001b[39;00m\n\u001b[0;32m     24\u001b[0m \u001b[38;5;66;03m#             connection.sendall(data)\u001b[39;00m\n\u001b[0;32m     25\u001b[0m \u001b[38;5;66;03m#             if data == 'HELP'.encode():\u001b[39;00m\n\u001b[0;32m     26\u001b[0m \u001b[38;5;66;03m#                 messageSentForHelp()\u001b[39;00m\n\u001b[0;32m     27\u001b[0m \u001b[38;5;66;03m#                 print('message help was sent')\u001b[39;00m\n",
      "\u001b[1;31mConnectionAbortedError\u001b[0m: [WinError 10053] An established connection was aborted by the software in your host machine"
     ]
    }
   ],
   "source": [
    "import socket\n",
    "\n",
    "\n",
    "sock = socket.socket(socket.AF_INET, socket.SOCK_STREAM)\n",
    "\n",
    "serverAddress = ('localhost', 2222)\n",
    "sock.bind(serverAddress)\n",
    "sock.listen(1)\n",
    "\n",
    "while True:\n",
    "    print('Waiting for a connection...')\n",
    "    connection, clientAddress = sock.accept()\n",
    "    connection.sendall(\"******WELCOME TO FTP SERVER******\\n\".encode())\n",
    "    \n",
    "    print('Connection from', clientAddress)\n",
    "\n",
    "    # For receiving data\n",
    "    while True:\n",
    "        data = connection.recv(1024)\n",
    "        print('\\nReceived', data.decode())\n",
    "\n",
    "        if data:\n",
    "#             print('Sending data back to the client.')\n",
    "#             connection.sendall(data)\n",
    "#             if data == 'HELP'.encode():\n",
    "#                 messageSentForHelp()\n",
    "#                 print('message help was sent')\n",
    "            if data == '0'.encode(): # When the client enters 0, the server shuts down\n",
    "                break\n",
    "        else:\n",
    "            print('No more data from', clientAddress)\n",
    "            break\n",
    "    connection.close()\n",
    "    if data == '0'.encode(): break\n",
    "        \n",
    "print('Shutting down the server.')        \n",
    "sock.close()"
   ]
  },
  {
   "cell_type": "code",
   "execution_count": null,
   "id": "aca8c422",
   "metadata": {},
   "outputs": [],
   "source": []
  },
  {
   "cell_type": "code",
   "execution_count": null,
   "id": "6efa14b5",
   "metadata": {},
   "outputs": [],
   "source": []
  },
  {
   "cell_type": "code",
   "execution_count": null,
   "id": "48feadd5",
   "metadata": {},
   "outputs": [],
   "source": []
  },
  {
   "cell_type": "code",
   "execution_count": null,
   "id": "8146bff9",
   "metadata": {},
   "outputs": [],
   "source": []
  },
  {
   "cell_type": "code",
   "execution_count": null,
   "id": "4b29aa21",
   "metadata": {},
   "outputs": [],
   "source": []
  },
  {
   "cell_type": "code",
   "execution_count": null,
   "id": "f1a9e53c",
   "metadata": {},
   "outputs": [],
   "source": []
  }
 ],
 "metadata": {
  "kernelspec": {
   "display_name": "Python 3 (ipykernel)",
   "language": "python",
   "name": "python3"
  },
  "language_info": {
   "codemirror_mode": {
    "name": "ipython",
    "version": 3
   },
   "file_extension": ".py",
   "mimetype": "text/x-python",
   "name": "python",
   "nbconvert_exporter": "python",
   "pygments_lexer": "ipython3",
   "version": "3.10.5"
  }
 },
 "nbformat": 4,
 "nbformat_minor": 5
}
