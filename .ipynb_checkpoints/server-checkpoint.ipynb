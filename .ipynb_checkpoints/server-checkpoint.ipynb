{
 "cells": [
  {
   "cell_type": "code",
   "execution_count": 1,
   "id": "6075d9e8",
   "metadata": {},
   "outputs": [],
   "source": [
    "import socket\n",
    "import os"
   ]
  },
  {
   "cell_type": "code",
   "execution_count": null,
   "id": "af8b33a2",
   "metadata": {},
   "outputs": [
    {
     "name": "stdout",
     "output_type": "stream",
     "text": [
      "Waiting for a connection...\n",
      "Connection from ('127.0.0.1', 48005)\n"
     ]
    }
   ],
   "source": [
    "sock = socket.socket(socket.AF_INET, socket.SOCK_STREAM)\n",
    "\n",
    "serverAddress = ('localhost', 2121)\n",
    "sock.bind(serverAddress)\n",
    "sock.listen(1)\n",
    "\n",
    "while True:\n",
    "    print('Waiting for a connection...')\n",
    "    connection, clientAddress = sock.accept()\n",
    "    print('Connection from', clientAddress)\n",
    "\n",
    "    # For receiving data\n",
    "    while True:\n",
    "        data = connection.recv(1024)\n",
    "        print('\\nReceived', data.decode())\n",
    "\n",
    "        if data:\n",
    "            if data.decode()[:6] == 'DELETE':\n",
    "                path = data[8:len(data)-1].strip()\n",
    "                # Find the path file and delete the file\n",
    "                try:\n",
    "                    os.remove(path)\n",
    "                    print('File deleted:', path)\n",
    "                except OSError as e:\n",
    "                    print(f\"Error deleting file {path}: {e}\")\n",
    "            \n",
    "            elif data.decode()[:8] == 'DOWNLOAD':\n",
    "                newS.bind(('localhost',2222))\n",
    "                newS.listen(5)\n",
    "                print('listening')\n",
    "                newConn, newAddr = newS.accept()\n",
    "                print('Got connection from', newAddr)\n",
    "                file_path = os.path.join(path)\n",
    "                with open(file_path, 'wb') as file:\n",
    "                    while True:\n",
    "                        file_data = newConn.recv(1024)\n",
    "                        print ('receiving')\n",
    "                        if not file_data: break\n",
    "                        print('writing')\n",
    "                        file.write(file_data)\n",
    "                        print('done')\n",
    "                    # conn.sendall(b\"File sent\")\n",
    "                    # print('ack sent')\n",
    "                newConn.close()\n",
    "                newS.close()\n",
    "                    \n",
    "            elif data.decode()[:4] == 'LIST':\n",
    "                try:\n",
    "                    directory_path = os.getcwd()\n",
    "                    file_list = [f\"{filename} - {os.path.getsize(os.path.join(directory_path, filename))} bytes\" for filename in os.listdir(directory_path)]\n",
    "                    print('Sending file list:', file_list)\n",
    "                    connection.sendall('\\n'.join(file_list).encode())\n",
    "                except FileNotFoundError:\n",
    "                    print(f\"Directory not found: {directory_path}\")\n",
    "                    connection.sendall(\"Directory not found\".encode())\n",
    "                    \n",
    "            elif data.decode()[:3] == 'PWD':\n",
    "                try:\n",
    "                    directory_path = os.getcwd()\n",
    "                    connection.sendall(directory_path.encode())\n",
    "                except FileNotFoundError:\n",
    "                    print(f\"Directory not found: {directory_path}\")\n",
    "                    connection.sendall(\"Directory not found\".encode())\n",
    "\n",
    "\n",
    "            elif data.decode()[:6] == 'UPLOAD':\n",
    "                newS.bind(('localhost',2222))\n",
    "                newS.listen(5)\n",
    "                print('Listening...')\n",
    "                newConn, newAddr = newS.accept()\n",
    "                print('Got connection from', newAddr)\n",
    "                file_path = os.path.join(server_folder, file_name)\n",
    "                if os.path.exists(file_path):\n",
    "                    with open(file_path, 'rb') as file:\n",
    "                        file_data = file.read()\n",
    "                    newConn.sendall(file_data)\n",
    "                    print('DONE')\n",
    "                else:\n",
    "                    newConn.sendall(b\"File not found\")\n",
    "                newConn.close()\n",
    "                newS.close()\n",
    "                \n",
    "            elif data == '0'.encode(): # When the client enters 0, the server shuts down\n",
    "                break\n",
    "        else:\n",
    "            print('No more data from', clientAddress)\n",
    "            break\n",
    "    connection.close()\n",
    "    if data == '0'.encode(): break\n",
    "        \n",
    "print('Shutting down the server.')        \n",
    "sock.close()"
   ]
  },
  {
   "cell_type": "code",
   "execution_count": null,
   "id": "5539c4b6",
   "metadata": {},
   "outputs": [],
   "source": []
  },
  {
   "cell_type": "code",
   "execution_count": null,
   "id": "0ec06904",
   "metadata": {},
   "outputs": [],
   "source": []
  },
  {
   "cell_type": "code",
   "execution_count": null,
   "id": "f7f2ae7c",
   "metadata": {},
   "outputs": [],
   "source": []
  },
  {
   "cell_type": "code",
   "execution_count": null,
   "id": "1728f1b3",
   "metadata": {},
   "outputs": [],
   "source": []
  }
 ],
 "metadata": {
  "kernelspec": {
   "display_name": "Python 3 (ipykernel)",
   "language": "python",
   "name": "python3"
  },
  "language_info": {
   "codemirror_mode": {
    "name": "ipython",
    "version": 3
   },
   "file_extension": ".py",
   "mimetype": "text/x-python",
   "name": "python",
   "nbconvert_exporter": "python",
   "pygments_lexer": "ipython3",
   "version": "3.10.5"
  }
 },
 "nbformat": 4,
 "nbformat_minor": 5
}
