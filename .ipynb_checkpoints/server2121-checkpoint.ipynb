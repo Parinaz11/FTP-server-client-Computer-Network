{
 "cells": [
  {
   "cell_type": "markdown",
   "id": "a5ca3654",
   "metadata": {},
   "source": [
    "# For Port 2121"
   ]
  },
  {
   "cell_type": "code",
   "execution_count": 7,
   "id": "80965e2e",
   "metadata": {},
   "outputs": [
    {
     "name": "stdout",
     "output_type": "stream",
     "text": [
      "Waiting for a connection...\n",
      "Connection from ('127.0.0.1', 4888)\n"
     ]
    },
    {
     "ename": "ConnectionResetError",
     "evalue": "[WinError 10054] An existing connection was forcibly closed by the remote host",
     "output_type": "error",
     "traceback": [
      "\u001b[1;31m---------------------------------------------------------------------------\u001b[0m",
      "\u001b[1;31mConnectionResetError\u001b[0m                      Traceback (most recent call last)",
      "Input \u001b[1;32mIn [7]\u001b[0m, in \u001b[0;36m<cell line: 15>\u001b[1;34m()\u001b[0m\n\u001b[0;32m     22\u001b[0m \u001b[38;5;66;03m# For receiving data\u001b[39;00m\n\u001b[0;32m     23\u001b[0m \u001b[38;5;28;01mwhile\u001b[39;00m \u001b[38;5;28;01mTrue\u001b[39;00m:\n\u001b[1;32m---> 24\u001b[0m     data \u001b[38;5;241m=\u001b[39m \u001b[43mconnection\u001b[49m\u001b[38;5;241;43m.\u001b[39;49m\u001b[43mrecv\u001b[49m\u001b[43m(\u001b[49m\u001b[38;5;241;43m1024\u001b[39;49m\u001b[43m)\u001b[49m\n\u001b[0;32m     25\u001b[0m     \u001b[38;5;28mprint\u001b[39m(\u001b[38;5;124m'\u001b[39m\u001b[38;5;130;01m\\n\u001b[39;00m\u001b[38;5;124mReceived\u001b[39m\u001b[38;5;124m'\u001b[39m, data\u001b[38;5;241m.\u001b[39mdecode())\n\u001b[0;32m     27\u001b[0m     \u001b[38;5;28;01mif\u001b[39;00m data:\n",
      "\u001b[1;31mConnectionResetError\u001b[0m: [WinError 10054] An existing connection was forcibly closed by the remote host"
     ]
    }
   ],
   "source": [
    "# Work with the code below this block\n",
    "\n",
    "import socket\n",
    "\n",
    "\n",
    "sock = socket.socket(socket.AF_INET, socket.SOCK_STREAM)\n",
    "\n",
    "serverAddress = ('localhost', 2121)\n",
    "sock.bind(serverAddress)\n",
    "sock.listen(1)\n",
    "\n",
    "\n",
    "def messageSentForHelp():\n",
    "    messageSent = \"Enter one of the following commands:\\nHELP               : showing the list of commands\\nCONNECT            : Connect to FTP server\\nUPLOAD file_path   : Upload file from the specified path\\nLIST               : List files\\nDOWNLOAD file_path : Download file from the specified path\\nDELETE file_path   : Delete file from the specified path\\nPWD                : Showing our current locaiton in the server\"\n",
    "    connection.sendall(messageSent.encode())\n",
    "\n",
    "while True:\n",
    "    print('Waiting for a connection...')\n",
    "    connection, clientAddress = sock.accept()\n",
    "    connection.sendall(\"--------WELCOME TO SERVER--------\\nFor displaying commands available, enter 'HELP'\".encode())\n",
    "    \n",
    "    print('Connection from', clientAddress)\n",
    "\n",
    "    # For receiving data\n",
    "    while True:\n",
    "        data = connection.recv(1024)\n",
    "        print('\\nReceived', data.decode())\n",
    "\n",
    "        if data:\n",
    "            print('Sending data back to the client.')\n",
    "            connection.sendall(data)\n",
    "            if data == 'HELP'.encode():\n",
    "                messageSentForHelp()\n",
    "                print('message help was sent')\n",
    "#             if data == 'CONNECT'.encode():\n",
    "                \n",
    "            if data == '0'.encode(): # When the client enters 0, the server shuts down\n",
    "                break\n",
    "        else:\n",
    "            print('No more data from', clientAddress)\n",
    "            break\n",
    "    connection.close()\n",
    "    if data == '0'.encode(): break\n",
    "        \n",
    "print('Shutting down the server.')        \n",
    "sock.close()"
   ]
  },
  {
   "cell_type": "code",
   "execution_count": null,
   "id": "f7f2ae7c",
   "metadata": {},
   "outputs": [],
   "source": []
  },
  {
   "cell_type": "code",
   "execution_count": 1,
   "id": "6075d9e8",
   "metadata": {},
   "outputs": [],
   "source": [
    "import socket"
   ]
  },
  {
   "cell_type": "code",
   "execution_count": null,
   "id": "af8b33a2",
   "metadata": {},
   "outputs": [
    {
     "name": "stdout",
     "output_type": "stream",
     "text": [
      "Waiting for a connection...\n",
      "Connection from ('127.0.0.1', 45725)\n",
      "\n",
      "Received \n",
      "No more data from ('127.0.0.1', 45725)\n",
      "Waiting for a connection...\n",
      "Connection from ('127.0.0.1', 45728)\n",
      "\n",
      "Received \n",
      "No more data from ('127.0.0.1', 45728)\n",
      "Waiting for a connection...\n"
     ]
    }
   ],
   "source": [
    "sock = socket.socket(socket.AF_INET, socket.SOCK_STREAM)\n",
    "\n",
    "serverAddress = ('localhost', 2121)\n",
    "sock.bind(serverAddress)\n",
    "sock.listen(1)\n",
    "\n",
    "while True:\n",
    "    print('Waiting for a connection...')\n",
    "    connection, clientAddress = sock.accept()\n",
    "    print('Connection from', clientAddress)\n",
    "\n",
    "    # For receiving data\n",
    "    while True:\n",
    "        data = connection.recv(1024)\n",
    "        print('\\nReceived', data.decode())\n",
    "\n",
    "        if data:\n",
    "#             print('Sending data back to the client.')\n",
    "#             connection.sendall(data)\n",
    "            if data.decode() == 'UPLOAD':\n",
    "                print('message help was sent')\n",
    "#             if data == 'CONNECT'.encode():\n",
    "                \n",
    "            if data == '0'.encode(): # When the client enters 0, the server shuts down\n",
    "                break\n",
    "        else:\n",
    "            print('No more data from', clientAddress)\n",
    "            break\n",
    "    connection.close()\n",
    "    if data == '0'.encode(): break\n",
    "        \n",
    "print('Shutting down the server.')        \n",
    "sock.close()"
   ]
  },
  {
   "cell_type": "code",
   "execution_count": null,
   "id": "d7897566",
   "metadata": {},
   "outputs": [],
   "source": []
  },
  {
   "cell_type": "code",
   "execution_count": null,
   "id": "8d5dc43e",
   "metadata": {},
   "outputs": [],
   "source": []
  },
  {
   "cell_type": "code",
   "execution_count": null,
   "id": "00fc69d0",
   "metadata": {},
   "outputs": [],
   "source": []
  },
  {
   "cell_type": "code",
   "execution_count": null,
   "id": "483910be",
   "metadata": {},
   "outputs": [],
   "source": []
  },
  {
   "cell_type": "code",
   "execution_count": null,
   "id": "c00b2158",
   "metadata": {},
   "outputs": [],
   "source": []
  },
  {
   "cell_type": "code",
   "execution_count": null,
   "id": "1728f1b3",
   "metadata": {},
   "outputs": [],
   "source": []
  }
 ],
 "metadata": {
  "kernelspec": {
   "display_name": "Python 3 (ipykernel)",
   "language": "python",
   "name": "python3"
  },
  "language_info": {
   "codemirror_mode": {
    "name": "ipython",
    "version": 3
   },
   "file_extension": ".py",
   "mimetype": "text/x-python",
   "name": "python",
   "nbconvert_exporter": "python",
   "pygments_lexer": "ipython3",
   "version": "3.10.5"
  }
 },
 "nbformat": 4,
 "nbformat_minor": 5
}
